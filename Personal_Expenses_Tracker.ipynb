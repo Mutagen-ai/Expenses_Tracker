{
 "cells": [
  {
   "cell_type": "markdown",
   "id": "c2746684-e6ba-4193-b6ae-909c5202eb55",
   "metadata": {},
   "source": [
    "# Personal Expenses Tracker"
   ]
  },
  {
   "cell_type": "markdown",
   "id": "99472c81-e4a0-4af3-b08a-849196194098",
   "metadata": {},
   "source": [
    "## What are we tracking?"
   ]
  },
  {
   "cell_type": "markdown",
   "id": "fb145f13-39bc-49ba-bbdd-55f292571928",
   "metadata": {},
   "source": [
    "### Create variables"
   ]
  },
  {
   "cell_type": "code",
   "execution_count": null,
   "id": "01ebc654-096f-47f1-a4fc-b51c6307b28a",
   "metadata": {},
   "outputs": [],
   "source": [
    "user = \"Mutagen\" # str\n",
    "current_month = \"October 2025\" # str\n",
    "currency = \"$\" # str\n",
    "budget = 500.00 # float\n",
    "num_days_in_month = 31 # int\n",
    "is_budget_set = True # Boolean\n",
    "type(is_budget_set)"
   ]
  },
  {
   "cell_type": "code",
   "execution_count": 22,
   "id": "db5fbb13-5f43-468a-9cab-f60d68caa49f",
   "metadata": {},
   "outputs": [
    {
     "name": "stdout",
     "output_type": "stream",
     "text": [
      "Hello Mutagen\n"
     ]
    }
   ],
   "source": [
    "print('Hello', user)"
   ]
  },
  {
   "cell_type": "code",
   "execution_count": 24,
   "id": "e78caa93-2392-49b6-961e-539e48feec8f",
   "metadata": {},
   "outputs": [
    {
     "name": "stdout",
     "output_type": "stream",
     "text": [
      "Budget for October 2025 : 500.0\n"
     ]
    }
   ],
   "source": [
    "print('Budget for', current_month, ':', budget)"
   ]
  },
  {
   "cell_type": "markdown",
   "id": "a83982f2-2a5f-497d-a3c2-21e901a419f1",
   "metadata": {},
   "source": [
    "### A single expense"
   ]
  },
  {
   "cell_type": "code",
   "execution_count": 27,
   "id": "f21cf036-8350-4e85-8c1b-ab440eb30e82",
   "metadata": {},
   "outputs": [],
   "source": [
    "item = 'rent'\n",
    "amount = 200.00\n",
    "category = 'Housing'\n",
    "is_necessary = True\n"
   ]
  },
  {
   "cell_type": "code",
   "execution_count": 48,
   "id": "b0f0029f-2dd8-4163-962a-aa034fccc45e",
   "metadata": {},
   "outputs": [],
   "source": [
    "closing_balance = budget - amount"
   ]
  },
  {
   "cell_type": "code",
   "execution_count": 50,
   "id": "37909a30-730b-46f2-bc51-7a228e28265f",
   "metadata": {},
   "outputs": [
    {
     "name": "stdout",
     "output_type": "stream",
     "text": [
      "300.0\n"
     ]
    }
   ],
   "source": [
    "print(closing_balance)"
   ]
  },
  {
   "cell_type": "code",
   "execution_count": null,
   "id": "7cc1c6ec-586e-454d-81de-4b5ada620f0c",
   "metadata": {},
   "outputs": [],
   "source": []
  },
  {
   "cell_type": "code",
   "execution_count": 87,
   "id": "a0d4d607-81b0-44f8-ac5a-79226f1d4915",
   "metadata": {},
   "outputs": [],
   "source": [
    "items = ['Rent', 'Electricity', 'Clothes', 'data bundle', 'KFC', 'Netflix']\n",
    "prices = [200.00, 40.00, 50.00, 20, 10, 15]\n",
    "categories = ['Housing', 'Utility', 'Basic', 'Utility', 'Food', 'Entertainment']\n",
    "necessary = [True, True, True, True, False, False]"
   ]
  },
  {
   "cell_type": "code",
   "execution_count": 83,
   "id": "85fba689-d144-441f-ba5b-f60b7dcac0e2",
   "metadata": {},
   "outputs": [
    {
     "data": {
      "text/plain": [
       "list"
      ]
     },
     "execution_count": 83,
     "metadata": {},
     "output_type": "execute_result"
    }
   ],
   "source": [
    "type(items)"
   ]
  },
  {
   "cell_type": "code",
   "execution_count": 89,
   "id": "bf03f1c1-9467-4d0e-a938-e1172cc4acc2",
   "metadata": {},
   "outputs": [
    {
     "data": {
      "text/plain": [
       "[200.0, 40.0, 50.0, 20, 10, 15]"
      ]
     },
     "execution_count": 89,
     "metadata": {},
     "output_type": "execute_result"
    }
   ],
   "source": [
    "prices"
   ]
  },
  {
   "cell_type": "code",
   "execution_count": 103,
   "id": "c6093ecf-410e-44e6-a753-f042ad0e1902",
   "metadata": {},
   "outputs": [
    {
     "data": {
      "text/plain": [
       "335.0"
      ]
     },
     "execution_count": 103,
     "metadata": {},
     "output_type": "execute_result"
    }
   ],
   "source": [
    "prices[0] + prices[1] + prices[2] + prices[3] + prices[4] + prices[5]"
   ]
  },
  {
   "cell_type": "code",
   "execution_count": 113,
   "id": "1e4c9c15-d6fc-4bd2-afec-1f2b29c4b7c7",
   "metadata": {},
   "outputs": [],
   "source": [
    "total_expenses = sum(prices)"
   ]
  },
  {
   "cell_type": "code",
   "execution_count": 117,
   "id": "ee83d9f0-2034-48a4-b312-61ea2fa91c57",
   "metadata": {},
   "outputs": [
    {
     "data": {
      "text/plain": [
       "165.0"
      ]
     },
     "execution_count": 117,
     "metadata": {},
     "output_type": "execute_result"
    }
   ],
   "source": [
    "balance = budget - total_expenses\n",
    "balance"
   ]
  },
  {
   "cell_type": "code",
   "execution_count": 121,
   "id": "8504776a-22f7-461f-b18c-6cdefc46b119",
   "metadata": {},
   "outputs": [
    {
     "data": {
      "text/plain": [
       "['Rent', 'Electricity', 'Clothes', 'data bundle', 'KFC', 'Netflix']"
      ]
     },
     "execution_count": 121,
     "metadata": {},
     "output_type": "execute_result"
    }
   ],
   "source": [
    "items"
   ]
  },
  {
   "cell_type": "code",
   "execution_count": 131,
   "id": "7066859b-b712-4d38-bc9d-823fb1e345fd",
   "metadata": {},
   "outputs": [
    {
     "data": {
      "text/plain": [
       "6"
      ]
     },
     "execution_count": 131,
     "metadata": {},
     "output_type": "execute_result"
    }
   ],
   "source": [
    "num_of_items = len(items)\n",
    "num_of_items"
   ]
  },
  {
   "cell_type": "code",
   "execution_count": 137,
   "id": "0a961cc5-494c-4922-9860-41151b06716d",
   "metadata": {},
   "outputs": [
    {
     "name": "stdout",
     "output_type": "stream",
     "text": [
      "===================================\n",
      "         Expenses Tracker\n",
      "===================================\n",
      "Owner                 Mutagen\n",
      "Period                October 2025\n",
      "-----------------------------------\n",
      "Currency              $\n",
      "Opening Balance      500.0\n",
      "Total Expenses        335.0\n",
      "-----------------------------------\n",
      "Closing Balance       165.0\n",
      "Transactions          6\n",
      "===================================\n",
      "        See you next time\n"
     ]
    }
   ],
   "source": [
    "print('=' * 35)\n",
    "print('         Expenses Tracker')\n",
    "print('=' * 35)\n",
    "print('Owner','               ', user)\n",
    "print('Period', '              ', current_month)\n",
    "print('-' * 35)\n",
    "print('Currency', '            ', currency)\n",
    "print('Opening Balance', '    ', budget)\n",
    "print('Total Expenses', '      ', total_expenses)\n",
    "print('-' * 35)\n",
    "print('Closing Balance', '     ', balance)\n",
    "print('Transactions', '        ', num_of_items)\n",
    "print('=' * 35)\n",
    "print(\"        See you next time\")"
   ]
  },
  {
   "cell_type": "code",
   "execution_count": null,
   "id": "19cab33f-dd52-4fd6-8fe5-90302071a1ec",
   "metadata": {},
   "outputs": [],
   "source": []
  }
 ],
 "metadata": {
  "kernelspec": {
   "display_name": "Python 3 (ipykernel)",
   "language": "python",
   "name": "python3"
  },
  "language_info": {
   "codemirror_mode": {
    "name": "ipython",
    "version": 3
   },
   "file_extension": ".py",
   "mimetype": "text/x-python",
   "name": "python",
   "nbconvert_exporter": "python",
   "pygments_lexer": "ipython3",
   "version": "3.11.7"
  }
 },
 "nbformat": 4,
 "nbformat_minor": 5
}
